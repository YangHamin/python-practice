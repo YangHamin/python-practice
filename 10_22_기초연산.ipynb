{
  "nbformat": 4,
  "nbformat_minor": 0,
  "metadata": {
    "colab": {
      "name": "10.22 기초연산",
      "provenance": [],
      "authorship_tag": "ABX9TyNAm0dFm7jWxeW2oI6u5LfZ",
      "include_colab_link": true
    },
    "kernelspec": {
      "name": "python3",
      "display_name": "Python 3"
    },
    "language_info": {
      "name": "python"
    }
  },
  "cells": [
    {
      "cell_type": "markdown",
      "metadata": {
        "id": "view-in-github",
        "colab_type": "text"
      },
      "source": [
        "<a href=\"https://colab.research.google.com/github/PI-hamin/python-practice/blob/main/10_22_%EA%B8%B0%EC%B4%88%EC%97%B0%EC%82%B0.ipynb\" target=\"_parent\"><img src=\"https://colab.research.google.com/assets/colab-badge.svg\" alt=\"Open In Colab\"/></a>"
      ]
    },
    {
      "cell_type": "code",
      "metadata": {
        "id": "4lFjNBstP7id"
      },
      "source": [
        "# korean : '=' 기호는 같다 라는 의미가 아니라 오른쪽의 것을 왼쪽으로 넣는다 라는 의미이다.\n",
        "# English : The symbol of equal('=') is not meaning equal, it means putting the one on the right on the left."
      ],
      "execution_count": 1,
      "outputs": []
    },
    {
      "cell_type": "code",
      "metadata": {
        "id": "7txf7OgqQHPY"
      },
      "source": [
        "a=100\n",
        "b=50"
      ],
      "execution_count": 2,
      "outputs": []
    },
    {
      "cell_type": "code",
      "metadata": {
        "id": "7-dJY7IJQ7OG"
      },
      "source": [
        "result=a+b"
      ],
      "execution_count": 3,
      "outputs": []
    },
    {
      "cell_type": "code",
      "metadata": {
        "colab": {
          "base_uri": "https://localhost:8080/"
        },
        "id": "wDzS5dEPQ-Tl",
        "outputId": "1ad0f79b-09a8-40e1-9487-7a990e0d52e3"
      },
      "source": [
        "print(result)"
      ],
      "execution_count": 5,
      "outputs": [
        {
          "output_type": "stream",
          "name": "stdout",
          "text": [
            "150\n"
          ]
        }
      ]
    },
    {
      "cell_type": "code",
      "metadata": {
        "colab": {
          "base_uri": "https://localhost:8080/"
        },
        "id": "dU4Co72xRAOg",
        "outputId": "bfad5b3a-2503-4828-d3c6-d91fa1ed4529"
      },
      "source": [
        "print(a,\"+\",b,\"=\",result)"
      ],
      "execution_count": 8,
      "outputs": [
        {
          "output_type": "stream",
          "name": "stdout",
          "text": [
            "100 + 50 = 150\n"
          ]
        }
      ]
    },
    {
      "cell_type": "code",
      "metadata": {
        "id": "LLj0mVFGRJj7"
      },
      "source": [
        "result=a-b"
      ],
      "execution_count": 9,
      "outputs": []
    },
    {
      "cell_type": "code",
      "metadata": {
        "colab": {
          "base_uri": "https://localhost:8080/"
        },
        "id": "WeAqTspHRTnA",
        "outputId": "24624206-7e96-4d6a-fb10-926f90c4ceff"
      },
      "source": [
        "print(a,\"-\",b,\"=\",result)"
      ],
      "execution_count": 11,
      "outputs": [
        {
          "output_type": "stream",
          "name": "stdout",
          "text": [
            "100 - 50 = 50\n"
          ]
        }
      ]
    },
    {
      "cell_type": "code",
      "metadata": {
        "id": "lHiPt_iYRYjG"
      },
      "source": [
        "resutl=a*b"
      ],
      "execution_count": 12,
      "outputs": []
    },
    {
      "cell_type": "code",
      "metadata": {
        "colab": {
          "base_uri": "https://localhost:8080/"
        },
        "id": "NqFw5ayARc5x",
        "outputId": "6b67478b-8c49-40a0-b729-10a0163930e2"
      },
      "source": [
        "print(a,\"*\",b,\"=\",result)"
      ],
      "execution_count": 13,
      "outputs": [
        {
          "output_type": "stream",
          "name": "stdout",
          "text": [
            "100 * 50 = 50\n"
          ]
        }
      ]
    },
    {
      "cell_type": "code",
      "metadata": {
        "id": "VPmwOJrMRkB9"
      },
      "source": [
        "reuslt=a/b"
      ],
      "execution_count": 14,
      "outputs": []
    },
    {
      "cell_type": "code",
      "metadata": {
        "colab": {
          "base_uri": "https://localhost:8080/"
        },
        "id": "4dDvI5fbRl_U",
        "outputId": "1aa29f6c-16cd-4d9c-b0bc-fa7a9dfdd6d2"
      },
      "source": [
        "print(a,\"/\",b,\"=\",result)"
      ],
      "execution_count": 15,
      "outputs": [
        {
          "output_type": "stream",
          "name": "stdout",
          "text": [
            "100 / 50 = 50\n"
          ]
        }
      ]
    },
    {
      "cell_type": "code",
      "metadata": {
        "id": "7yNSFY49RrYV"
      },
      "source": [
        ""
      ],
      "execution_count": null,
      "outputs": []
    }
  ]
}